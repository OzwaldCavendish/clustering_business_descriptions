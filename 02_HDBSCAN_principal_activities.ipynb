{
 "cells": [
  {
   "cell_type": "markdown",
   "metadata": {},
   "source": [
    "# Clustering Businesses Descriptions of their Principal Activities - Word2Vec Approach\n",
    "\n",
    "LDA clustering of these descriptions didn't do much, too many weird groupings due to the short sentence nature of the descriptions, there's nothing to indicate, for example, that plumbers and electricians have much in common.  To surmount this we'll try using Word2Vec to create representations that contain information on the semantic/usage associations of words."
   ]
  },
  {
   "cell_type": "code",
   "execution_count": 1,
   "metadata": {},
   "outputs": [],
   "source": [
    "import hdbscan\n",
    "\n",
    "import numpy as np\n",
    "import pandas as pd"
   ]
  },
  {
   "cell_type": "code",
   "execution_count": 2,
   "metadata": {},
   "outputs": [],
   "source": [
    "# A lighter pre-processing that doesn't stem\n",
    "def preprocess_desc(description):\n",
    "    return( [token for token in simple_preprocess(str(description)) if token not in STOPWORDS] )"
   ]
  },
  {
   "cell_type": "code",
   "execution_count": null,
   "metadata": {},
   "outputs": [],
   "source": []
  }
 ],
 "metadata": {
  "kernelspec": {
   "display_name": "Python 3",
   "language": "python",
   "name": "python3"
  },
  "language_info": {
   "codemirror_mode": {
    "name": "ipython",
    "version": 3
   },
   "file_extension": ".py",
   "mimetype": "text/x-python",
   "name": "python",
   "nbconvert_exporter": "python",
   "pygments_lexer": "ipython3",
   "version": "3.6.7"
  }
 },
 "nbformat": 4,
 "nbformat_minor": 2
}
