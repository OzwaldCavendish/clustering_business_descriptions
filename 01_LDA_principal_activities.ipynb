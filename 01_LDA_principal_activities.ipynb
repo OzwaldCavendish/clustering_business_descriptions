{
 "cells": [
  {
   "cell_type": "markdown",
   "metadata": {},
   "source": [
    "# Clustering Businesses Descriptions of their Principal Activities\n",
    "\n",
    "The goal is to create a robust clustering pipeline - it should include creating an \"optimal\" clustering, validating and filtering the resulting clusters to those that contain real data, and then summarising the resulting text in some human-readable way that allows the researcher to create a definition for a cluster without having to go back and read the original documents."
   ]
  },
  {
   "cell_type": "code",
   "execution_count": 1,
   "metadata": {},
   "outputs": [],
   "source": [
    "import gensim\n",
    "import re\n",
    "\n",
    "import numpy as np\n",
    "import pandas as pd\n",
    "\n",
    "import gensim.models.ldamulticore as LDA\n",
    "\n",
    "from gensim.utils import simple_preprocess\n",
    "from nltk.stem import SnowballStemmer\n",
    "from gensim.parsing.preprocessing import STOPWORDS\n",
    "\n",
    "from nltk.stem.porter import *\n",
    "\n",
    "# Define which stemmer to use in the pipeline later\n",
    "stemmer = PorterStemmer()"
   ]
  },
  {
   "cell_type": "code",
   "execution_count": 4,
   "metadata": {},
   "outputs": [],
   "source": [
    "pa_df = pd.read_csv(\"./data/companieshousedescriptions.csv\").drop(\"Unnamed: 0\", axis=1)"
   ]
  },
  {
   "cell_type": "markdown",
   "metadata": {},
   "source": [
    "## 1.  Data exploration/explanation\n",
    "\n",
    "This data contains descriptions of company principal activities submitted to Companies House within balance sheets, for September 2017 - August 2018.  The descriptions are usually very brief, just a sentence or so.  They're also usually very vague (eg; \"consulting\" or \"financial services\").  There's over 700,000 documents but far fewer actually contain information!"
   ]
  },
  {
   "cell_type": "code",
   "execution_count": 5,
   "metadata": {},
   "outputs": [
    {
     "data": {
      "text/html": [
       "<div>\n",
       "<style scoped>\n",
       "    .dataframe tbody tr th:only-of-type {\n",
       "        vertical-align: middle;\n",
       "    }\n",
       "\n",
       "    .dataframe tbody tr th {\n",
       "        vertical-align: top;\n",
       "    }\n",
       "\n",
       "    .dataframe thead th {\n",
       "        text-align: right;\n",
       "    }\n",
       "</style>\n",
       "<table border=\"1\" class=\"dataframe\">\n",
       "  <thead>\n",
       "    <tr style=\"text-align: right;\">\n",
       "      <th></th>\n",
       "      <th>balancesheetdate</th>\n",
       "      <th>companieshouseregisterednumber</th>\n",
       "      <th>descriptionprincipalactivities</th>\n",
       "    </tr>\n",
       "  </thead>\n",
       "  <tbody>\n",
       "    <tr>\n",
       "      <th>0</th>\n",
       "      <td>2017-06-30</td>\n",
       "      <td>08028272</td>\n",
       "      <td>The principal activity of the company is Motor...</td>\n",
       "    </tr>\n",
       "    <tr>\n",
       "      <th>1</th>\n",
       "      <td>2017-06-30</td>\n",
       "      <td>04761288</td>\n",
       "      <td>No description of principal activity</td>\n",
       "    </tr>\n",
       "    <tr>\n",
       "      <th>2</th>\n",
       "      <td>2017-08-31</td>\n",
       "      <td>10314494</td>\n",
       "      <td>No description of principal activity</td>\n",
       "    </tr>\n",
       "    <tr>\n",
       "      <th>3</th>\n",
       "      <td>2016-12-31</td>\n",
       "      <td>03127240</td>\n",
       "      <td>No description of principal activity</td>\n",
       "    </tr>\n",
       "    <tr>\n",
       "      <th>4</th>\n",
       "      <td>2017-06-30</td>\n",
       "      <td>05735108</td>\n",
       "      <td>No description of principal activity</td>\n",
       "    </tr>\n",
       "  </tbody>\n",
       "</table>\n",
       "</div>"
      ],
      "text/plain": [
       "  balancesheetdate companieshouseregisterednumber  \\\n",
       "0       2017-06-30                       08028272   \n",
       "1       2017-06-30                       04761288   \n",
       "2       2017-08-31                       10314494   \n",
       "3       2016-12-31                       03127240   \n",
       "4       2017-06-30                       05735108   \n",
       "\n",
       "                      descriptionprincipalactivities  \n",
       "0  The principal activity of the company is Motor...  \n",
       "1               No description of principal activity  \n",
       "2               No description of principal activity  \n",
       "3               No description of principal activity  \n",
       "4               No description of principal activity  "
      ]
     },
     "execution_count": 5,
     "metadata": {},
     "output_type": "execute_result"
    }
   ],
   "source": [
    "pa_df.head()"
   ]
  },
  {
   "cell_type": "code",
   "execution_count": 6,
   "metadata": {},
   "outputs": [
    {
     "data": {
      "text/plain": [
       "747216"
      ]
     },
     "execution_count": 6,
     "metadata": {},
     "output_type": "execute_result"
    }
   ],
   "source": [
    " len(pa_df)"
   ]
  },
  {
   "cell_type": "code",
   "execution_count": 7,
   "metadata": {
    "scrolled": true
   },
   "outputs": [
    {
     "data": {
      "text/html": [
       "<div>\n",
       "<style scoped>\n",
       "    .dataframe tbody tr th:only-of-type {\n",
       "        vertical-align: middle;\n",
       "    }\n",
       "\n",
       "    .dataframe tbody tr th {\n",
       "        vertical-align: top;\n",
       "    }\n",
       "\n",
       "    .dataframe thead th {\n",
       "        text-align: right;\n",
       "    }\n",
       "</style>\n",
       "<table border=\"1\" class=\"dataframe\">\n",
       "  <thead>\n",
       "    <tr style=\"text-align: right;\">\n",
       "      <th></th>\n",
       "      <th>balancesheetdate</th>\n",
       "      <th>companieshouseregisterednumber</th>\n",
       "      <th>descriptionprincipalactivities</th>\n",
       "    </tr>\n",
       "  </thead>\n",
       "  <tbody>\n",
       "    <tr>\n",
       "      <th>0</th>\n",
       "      <td>2017-06-30</td>\n",
       "      <td>08028272</td>\n",
       "      <td>The principal activity of the company is Motor...</td>\n",
       "    </tr>\n",
       "    <tr>\n",
       "      <th>6</th>\n",
       "      <td>2017-06-30</td>\n",
       "      <td>05832111</td>\n",
       "      <td>The principal activity of the company is Desig...</td>\n",
       "    </tr>\n",
       "    <tr>\n",
       "      <th>8</th>\n",
       "      <td>2017-08-31</td>\n",
       "      <td>02962718</td>\n",
       "      <td>software production</td>\n",
       "    </tr>\n",
       "    <tr>\n",
       "      <th>26</th>\n",
       "      <td>2017-07-31</td>\n",
       "      <td>06658591</td>\n",
       "      <td>Other letting and operating of leased real estate</td>\n",
       "    </tr>\n",
       "    <tr>\n",
       "      <th>28</th>\n",
       "      <td>2017-07-31</td>\n",
       "      <td>07326706</td>\n",
       "      <td>The principal activity of the company is Sale ...</td>\n",
       "    </tr>\n",
       "  </tbody>\n",
       "</table>\n",
       "</div>"
      ],
      "text/plain": [
       "   balancesheetdate companieshouseregisterednumber  \\\n",
       "0        2017-06-30                       08028272   \n",
       "6        2017-06-30                       05832111   \n",
       "8        2017-08-31                       02962718   \n",
       "26       2017-07-31                       06658591   \n",
       "28       2017-07-31                       07326706   \n",
       "\n",
       "                       descriptionprincipalactivities  \n",
       "0   The principal activity of the company is Motor...  \n",
       "6   The principal activity of the company is Desig...  \n",
       "8                                 software production  \n",
       "26  Other letting and operating of leased real estate  \n",
       "28  The principal activity of the company is Sale ...  "
      ]
     },
     "execution_count": 7,
     "metadata": {},
     "output_type": "execute_result"
    }
   ],
   "source": [
    "pa_cleaned_df = pa_df[pa_df['descriptionprincipalactivities'] != \"No description of principal activity\"]\n",
    "pa_cleaned_df.head()"
   ]
  },
  {
   "cell_type": "code",
   "execution_count": 8,
   "metadata": {},
   "outputs": [
    {
     "data": {
      "text/plain": [
       "219386"
      ]
     },
     "execution_count": 8,
     "metadata": {},
     "output_type": "execute_result"
    }
   ],
   "source": [
    "len(pa_cleaned_df)"
   ]
  },
  {
   "cell_type": "markdown",
   "metadata": {},
   "source": [
    "After cleaning out the obvious null value we end up with over 200,000 records, which isn't so bad - there's likely to be other effectively null values (in fact, I KNOW there is from other work), but rather than try to identify them individually we'll see if we can clean them out in an automated manner as part of the clustering process."
   ]
  },
  {
   "cell_type": "code",
   "execution_count": 9,
   "metadata": {},
   "outputs": [
    {
     "name": "stderr",
     "output_type": "stream",
     "text": [
      "/usr/lib/python3/dist-packages/ipykernel_launcher.py:1: SettingWithCopyWarning: \n",
      "A value is trying to be set on a copy of a slice from a DataFrame.\n",
      "Try using .loc[row_indexer,col_indexer] = value instead\n",
      "\n",
      "See the caveats in the documentation: http://pandas.pydata.org/pandas-docs/stable/indexing.html#indexing-view-versus-copy\n",
      "  \"\"\"Entry point for launching an IPython kernel.\n"
     ]
    }
   ],
   "source": [
    "pa_cleaned_df['numcharacters'] = pa_cleaned_df['descriptionprincipalactivities'].apply(lambda x: len(str(x)))"
   ]
  },
  {
   "cell_type": "code",
   "execution_count": 10,
   "metadata": {},
   "outputs": [
    {
     "name": "stderr",
     "output_type": "stream",
     "text": [
      "/usr/lib/python3/dist-packages/ipykernel_launcher.py:1: SettingWithCopyWarning: \n",
      "A value is trying to be set on a copy of a slice from a DataFrame.\n",
      "Try using .loc[row_indexer,col_indexer] = value instead\n",
      "\n",
      "See the caveats in the documentation: http://pandas.pydata.org/pandas-docs/stable/indexing.html#indexing-view-versus-copy\n",
      "  \"\"\"Entry point for launching an IPython kernel.\n"
     ]
    }
   ],
   "source": [
    "pa_cleaned_df['numwords'] = pa_cleaned_df['descriptionprincipalactivities'].apply(lambda x: len(str(x).split()))"
   ]
  },
  {
   "cell_type": "code",
   "execution_count": 11,
   "metadata": {},
   "outputs": [
    {
     "data": {
      "text/html": [
       "<div>\n",
       "<style scoped>\n",
       "    .dataframe tbody tr th:only-of-type {\n",
       "        vertical-align: middle;\n",
       "    }\n",
       "\n",
       "    .dataframe tbody tr th {\n",
       "        vertical-align: top;\n",
       "    }\n",
       "\n",
       "    .dataframe thead th {\n",
       "        text-align: right;\n",
       "    }\n",
       "</style>\n",
       "<table border=\"1\" class=\"dataframe\">\n",
       "  <thead>\n",
       "    <tr style=\"text-align: right;\">\n",
       "      <th></th>\n",
       "      <th>balancesheetdate</th>\n",
       "      <th>companieshouseregisterednumber</th>\n",
       "      <th>descriptionprincipalactivities</th>\n",
       "      <th>numcharacters</th>\n",
       "      <th>numwords</th>\n",
       "    </tr>\n",
       "  </thead>\n",
       "  <tbody>\n",
       "    <tr>\n",
       "      <th>0</th>\n",
       "      <td>2017-06-30</td>\n",
       "      <td>08028272</td>\n",
       "      <td>The principal activity of the company is Motor...</td>\n",
       "      <td>65</td>\n",
       "      <td>10</td>\n",
       "    </tr>\n",
       "    <tr>\n",
       "      <th>6</th>\n",
       "      <td>2017-06-30</td>\n",
       "      <td>05832111</td>\n",
       "      <td>The principal activity of the company is Desig...</td>\n",
       "      <td>59</td>\n",
       "      <td>9</td>\n",
       "    </tr>\n",
       "    <tr>\n",
       "      <th>8</th>\n",
       "      <td>2017-08-31</td>\n",
       "      <td>02962718</td>\n",
       "      <td>software production</td>\n",
       "      <td>19</td>\n",
       "      <td>2</td>\n",
       "    </tr>\n",
       "    <tr>\n",
       "      <th>26</th>\n",
       "      <td>2017-07-31</td>\n",
       "      <td>06658591</td>\n",
       "      <td>Other letting and operating of leased real estate</td>\n",
       "      <td>49</td>\n",
       "      <td>8</td>\n",
       "    </tr>\n",
       "    <tr>\n",
       "      <th>28</th>\n",
       "      <td>2017-07-31</td>\n",
       "      <td>07326706</td>\n",
       "      <td>The principal activity of the company is Sale ...</td>\n",
       "      <td>65</td>\n",
       "      <td>11</td>\n",
       "    </tr>\n",
       "  </tbody>\n",
       "</table>\n",
       "</div>"
      ],
      "text/plain": [
       "   balancesheetdate companieshouseregisterednumber  \\\n",
       "0        2017-06-30                       08028272   \n",
       "6        2017-06-30                       05832111   \n",
       "8        2017-08-31                       02962718   \n",
       "26       2017-07-31                       06658591   \n",
       "28       2017-07-31                       07326706   \n",
       "\n",
       "                       descriptionprincipalactivities  numcharacters  numwords  \n",
       "0   The principal activity of the company is Motor...             65        10  \n",
       "6   The principal activity of the company is Desig...             59         9  \n",
       "8                                 software production             19         2  \n",
       "26  Other letting and operating of leased real estate             49         8  \n",
       "28  The principal activity of the company is Sale ...             65        11  "
      ]
     },
     "execution_count": 11,
     "metadata": {},
     "output_type": "execute_result"
    }
   ],
   "source": [
    "pa_cleaned_df.head()"
   ]
  },
  {
   "cell_type": "markdown",
   "metadata": {},
   "source": [
    "## 2.  Preprocess all of the text descriptions\n",
    "\n",
    "This will be fed into the TF-IDF text representation.  Since it's business descriptions we only really need the keywords cluster them by, all of the stopwords are irrelevant and simply inflate the vocabulary, and semantic meanings/conflations are largely irrelevant.  So, we're going to strip stopwords and stem the vocabulary before clustering.  Lemmatisation is an option but it's hard to know if it would obfusticate industry-specific technical terms.\n",
    "\n",
    "There's a good guide on this process at https://towardsdatascience.com/topic-modeling-and-latent-dirichlet-allocation-in-python-9bf156893c24, though I'm going to be tailoring it a bit for myself.\n",
    "\n",
    "NB;  On the puny laptop I use while travelling (1.2Ghz, 4GB ram) even just stemming can take quite a while!"
   ]
  },
  {
   "cell_type": "code",
   "execution_count": 12,
   "metadata": {},
   "outputs": [],
   "source": [
    "# A quick utility function to pre-process the text\n",
    "def preprocess_desc(description):\n",
    "    return( [stemmer.stem(token) for token in simple_preprocess(str(description)) if token not in STOPWORDS] )"
   ]
  },
  {
   "cell_type": "code",
   "execution_count": 13,
   "metadata": {},
   "outputs": [
    {
     "name": "stderr",
     "output_type": "stream",
     "text": [
      "/usr/lib/python3/dist-packages/ipykernel_launcher.py:1: SettingWithCopyWarning: \n",
      "A value is trying to be set on a copy of a slice from a DataFrame.\n",
      "Try using .loc[row_indexer,col_indexer] = value instead\n",
      "\n",
      "See the caveats in the documentation: http://pandas.pydata.org/pandas-docs/stable/indexing.html#indexing-view-versus-copy\n",
      "  \"\"\"Entry point for launching an IPython kernel.\n"
     ]
    }
   ],
   "source": [
    "pa_cleaned_df['tokens'] = pa_cleaned_df['descriptionprincipalactivities'].apply(preprocess_desc)"
   ]
  },
  {
   "cell_type": "code",
   "execution_count": 14,
   "metadata": {},
   "outputs": [
    {
     "name": "stderr",
     "output_type": "stream",
     "text": [
      "/usr/lib/python3/dist-packages/ipykernel_launcher.py:1: SettingWithCopyWarning: \n",
      "A value is trying to be set on a copy of a slice from a DataFrame.\n",
      "Try using .loc[row_indexer,col_indexer] = value instead\n",
      "\n",
      "See the caveats in the documentation: http://pandas.pydata.org/pandas-docs/stable/indexing.html#indexing-view-versus-copy\n",
      "  \"\"\"Entry point for launching an IPython kernel.\n"
     ]
    }
   ],
   "source": [
    "pa_cleaned_df['numtokens'] = pa_cleaned_df['tokens'].apply(len)"
   ]
  },
  {
   "cell_type": "code",
   "execution_count": 15,
   "metadata": {},
   "outputs": [
    {
     "data": {
      "text/html": [
       "<div>\n",
       "<style scoped>\n",
       "    .dataframe tbody tr th:only-of-type {\n",
       "        vertical-align: middle;\n",
       "    }\n",
       "\n",
       "    .dataframe tbody tr th {\n",
       "        vertical-align: top;\n",
       "    }\n",
       "\n",
       "    .dataframe thead th {\n",
       "        text-align: right;\n",
       "    }\n",
       "</style>\n",
       "<table border=\"1\" class=\"dataframe\">\n",
       "  <thead>\n",
       "    <tr style=\"text-align: right;\">\n",
       "      <th></th>\n",
       "      <th>balancesheetdate</th>\n",
       "      <th>companieshouseregisterednumber</th>\n",
       "      <th>descriptionprincipalactivities</th>\n",
       "      <th>numcharacters</th>\n",
       "      <th>numwords</th>\n",
       "      <th>tokens</th>\n",
       "      <th>numtokens</th>\n",
       "    </tr>\n",
       "  </thead>\n",
       "  <tbody>\n",
       "    <tr>\n",
       "      <th>0</th>\n",
       "      <td>2017-06-30</td>\n",
       "      <td>08028272</td>\n",
       "      <td>The principal activity of the company is Motor...</td>\n",
       "      <td>65</td>\n",
       "      <td>10</td>\n",
       "      <td>[princip, activ, compani, motorsport, engin]</td>\n",
       "      <td>5</td>\n",
       "    </tr>\n",
       "    <tr>\n",
       "      <th>6</th>\n",
       "      <td>2017-06-30</td>\n",
       "      <td>05832111</td>\n",
       "      <td>The principal activity of the company is Desig...</td>\n",
       "      <td>59</td>\n",
       "      <td>9</td>\n",
       "      <td>[princip, activ, compani, design, engin]</td>\n",
       "      <td>5</td>\n",
       "    </tr>\n",
       "    <tr>\n",
       "      <th>8</th>\n",
       "      <td>2017-08-31</td>\n",
       "      <td>02962718</td>\n",
       "      <td>software production</td>\n",
       "      <td>19</td>\n",
       "      <td>2</td>\n",
       "      <td>[softwar, product]</td>\n",
       "      <td>2</td>\n",
       "    </tr>\n",
       "    <tr>\n",
       "      <th>26</th>\n",
       "      <td>2017-07-31</td>\n",
       "      <td>06658591</td>\n",
       "      <td>Other letting and operating of leased real estate</td>\n",
       "      <td>49</td>\n",
       "      <td>8</td>\n",
       "      <td>[let, oper, leas, real, estat]</td>\n",
       "      <td>5</td>\n",
       "    </tr>\n",
       "    <tr>\n",
       "      <th>28</th>\n",
       "      <td>2017-07-31</td>\n",
       "      <td>07326706</td>\n",
       "      <td>The principal activity of the company is Sale ...</td>\n",
       "      <td>65</td>\n",
       "      <td>11</td>\n",
       "      <td>[princip, activ, compani, sale, offic, furnitur]</td>\n",
       "      <td>6</td>\n",
       "    </tr>\n",
       "  </tbody>\n",
       "</table>\n",
       "</div>"
      ],
      "text/plain": [
       "   balancesheetdate companieshouseregisterednumber  \\\n",
       "0        2017-06-30                       08028272   \n",
       "6        2017-06-30                       05832111   \n",
       "8        2017-08-31                       02962718   \n",
       "26       2017-07-31                       06658591   \n",
       "28       2017-07-31                       07326706   \n",
       "\n",
       "                       descriptionprincipalactivities  numcharacters  \\\n",
       "0   The principal activity of the company is Motor...             65   \n",
       "6   The principal activity of the company is Desig...             59   \n",
       "8                                 software production             19   \n",
       "26  Other letting and operating of leased real estate             49   \n",
       "28  The principal activity of the company is Sale ...             65   \n",
       "\n",
       "    numwords                                            tokens  numtokens  \n",
       "0         10      [princip, activ, compani, motorsport, engin]          5  \n",
       "6          9          [princip, activ, compani, design, engin]          5  \n",
       "8          2                                [softwar, product]          2  \n",
       "26         8                    [let, oper, leas, real, estat]          5  \n",
       "28        11  [princip, activ, compani, sale, offic, furnitur]          6  "
      ]
     },
     "execution_count": 15,
     "metadata": {},
     "output_type": "execute_result"
    }
   ],
   "source": [
    "pa_cleaned_df.head()"
   ]
  },
  {
   "cell_type": "code",
   "execution_count": 16,
   "metadata": {},
   "outputs": [
    {
     "data": {
      "text/plain": [
       "219386"
      ]
     },
     "execution_count": 16,
     "metadata": {},
     "output_type": "execute_result"
    }
   ],
   "source": [
    "len(pa_cleaned_df)"
   ]
  },
  {
   "cell_type": "code",
   "execution_count": 17,
   "metadata": {},
   "outputs": [],
   "source": [
    "pa_cleaned_df.to_csv(\"./data/companieshousedescriptions_cleaned.csv\")"
   ]
  },
  {
   "cell_type": "markdown",
   "metadata": {},
   "source": [
    "## 3.  Create TF-IDF text representation"
   ]
  },
  {
   "cell_type": "code",
   "execution_count": 18,
   "metadata": {},
   "outputs": [],
   "source": [
    "# Create the vocabulary record\n",
    "dictionary = gensim.corpora.Dictionary(pa_cleaned_df['tokens'])"
   ]
  },
  {
   "cell_type": "code",
   "execution_count": 19,
   "metadata": {},
   "outputs": [],
   "source": [
    "# Remove extreme values (words that are too rare, too common)\n",
    "dictionary.filter_extremes(no_below=5, no_above=0.5, keep_n=100000)"
   ]
  },
  {
   "cell_type": "code",
   "execution_count": 20,
   "metadata": {},
   "outputs": [],
   "source": [
    "# Create a BOW model\n",
    "bow_corpus = [dictionary.doc2bow(doc) for doc in pa_cleaned_df['tokens']]"
   ]
  },
  {
   "cell_type": "code",
   "execution_count": 21,
   "metadata": {},
   "outputs": [
    {
     "name": "stderr",
     "output_type": "stream",
     "text": [
      "/usr/lib/python3/dist-packages/ipykernel_launcher.py:2: SettingWithCopyWarning: \n",
      "A value is trying to be set on a copy of a slice from a DataFrame.\n",
      "Try using .loc[row_indexer,col_indexer] = value instead\n",
      "\n",
      "See the caveats in the documentation: http://pandas.pydata.org/pandas-docs/stable/indexing.html#indexing-view-versus-copy\n",
      "  \n"
     ]
    }
   ],
   "source": [
    "# From that create the TF-IDF model\n",
    "tfidf = gensim.models.TfidfModel(bow_corpus)\n",
    "pa_cleaned_df['corpus_tfidf'] = tfidf[bow_corpus]"
   ]
  },
  {
   "cell_type": "code",
   "execution_count": 22,
   "metadata": {
    "scrolled": true
   },
   "outputs": [
    {
     "data": {
      "text/plain": [
       "0     [(0, 0.3639053457906437), (1, 0.93143593408510...\n",
       "6     [(0, 0.690464842484867), (2, 0.7233659525387879)]\n",
       "8     [(3, 0.6762904085987101), (4, 0.73663510861035...\n",
       "26    [(5, 0.43307864762118525), (6, 0.5161195419947...\n",
       "28    [(10, 0.6891561579742794), (11, 0.605489898421...\n",
       "Name: corpus_tfidf, dtype: object"
      ]
     },
     "execution_count": 22,
     "metadata": {},
     "output_type": "execute_result"
    }
   ],
   "source": [
    "pa_cleaned_df['corpus_tfidf'].head()"
   ]
  },
  {
   "cell_type": "markdown",
   "metadata": {},
   "source": [
    "## 4.  Fit LDA to TF-IDF model\n",
    "\n",
    "This should perform better than using mere BOW, because the scores/values are already emphasised if they are discriminative.  This should reduce noise (meaning here words that appear in many different topics).\n",
    "\n",
    "Ironically, I need to be careful I don't filter out data/words I'm trying to filter later using the clustering..."
   ]
  },
  {
   "cell_type": "code",
   "execution_count": 25,
   "metadata": {},
   "outputs": [],
   "source": [
    "# Fit the lda model, with 10 topics\n",
    "lda_model_tfidf = gensim.models.LdaMulticore(pa_cleaned_df['corpus_tfidf'],\n",
    "                                             num_topics=10,\n",
    "                                             id2word=dictionary,\n",
    "                                             passes=2,\n",
    "                                             workers=2)"
   ]
  },
  {
   "cell_type": "code",
   "execution_count": 26,
   "metadata": {},
   "outputs": [
    {
     "name": "stdout",
     "output_type": "stream",
     "text": [
      "Topic: 0 Word: 0.053*\"softwar\" + 0.037*\"repair\" + 0.030*\"vehicl\" + 0.030*\"motor\" + 0.026*\"develop\" + 0.025*\"medic\" + 0.024*\"sell\" + 0.024*\"public\" + 0.024*\"stuff\" + 0.023*\"restaur\"\n",
      "Topic: 1 Word: 0.200*\"dormant\" + 0.136*\"trade\" + 0.074*\"year\" + 0.057*\"contractor\" + 0.036*\"clean\" + 0.020*\"end\" + 0.018*\"subsequ\" + 0.017*\"electr\" + 0.016*\"period\" + 0.014*\"non\"\n",
      "Topic: 2 Word: 0.245*\"consult\" + 0.097*\"servic\" + 0.060*\"contract\" + 0.059*\"provis\" + 0.058*\"financi\" + 0.025*\"health\" + 0.019*\"secur\" + 0.016*\"provid\" + 0.016*\"joineri\" + 0.016*\"veterinari\"\n",
      "Topic: 3 Word: 0.209*\"descript\" + 0.208*\"disclos\" + 0.067*\"busi\" + 0.036*\"support\" + 0.025*\"work\" + 0.023*\"classifi\" + 0.022*\"plumb\" + 0.022*\"servic\" + 0.021*\"educ\" + 0.020*\"domest\"\n",
      "Topic: 4 Word: 0.189*\"manag\" + 0.069*\"construct\" + 0.067*\"consult\" + 0.049*\"properti\" + 0.033*\"gener\" + 0.026*\"nan\" + 0.025*\"mainten\" + 0.023*\"recruit\" + 0.022*\"build\" + 0.019*\"hairdress\"\n",
      "Topic: 5 Word: 0.112*\"properti\" + 0.061*\"develop\" + 0.060*\"principl\" + 0.056*\"includ\" + 0.048*\"rental\" + 0.047*\"let\" + 0.021*\"commerci\" + 0.020*\"builder\" + 0.018*\"residenti\" + 0.018*\"publish\"\n",
      "Topic: 6 Word: 0.216*\"review\" + 0.157*\"year\" + 0.091*\"period\" + 0.070*\"consult\" + 0.046*\"account\" + 0.038*\"servic\" + 0.034*\"train\" + 0.023*\"care\" + 0.021*\"provis\" + 0.018*\"manag\"\n",
      "Topic: 7 Word: 0.094*\"invest\" + 0.092*\"transport\" + 0.088*\"engin\" + 0.074*\"hold\" + 0.073*\"technolog\" + 0.072*\"inform\" + 0.039*\"properti\" + 0.036*\"servic\" + 0.036*\"consult\" + 0.026*\"farm\"\n",
      "Topic: 8 Word: 0.074*\"design\" + 0.057*\"project\" + 0.051*\"build\" + 0.041*\"continu\" + 0.033*\"servic\" + 0.029*\"manag\" + 0.023*\"develop\" + 0.023*\"web\" + 0.022*\"event\" + 0.021*\"graphic\"\n",
      "Topic: 9 Word: 0.043*\"retail\" + 0.041*\"sale\" + 0.033*\"electr\" + 0.030*\"manufactur\" + 0.029*\"market\" + 0.028*\"estat\" + 0.027*\"product\" + 0.025*\"instal\" + 0.022*\"equip\" + 0.020*\"real\"\n"
     ]
    }
   ],
   "source": [
    "# Let's take a quick look at the topics picked out\n",
    "for idx, topic in lda_model_tfidf.print_topics(-1):\n",
    "    print('Topic: {} Word: {}'.format(idx, topic))"
   ]
  },
  {
   "cell_type": "markdown",
   "metadata": {},
   "source": [
    "# Conclusions\n",
    "\n",
    "Even without plotting it, we can see some keywords are ending up grouped oddly.  Plumbing, motor, electric and other maintenance/mechanical type jobs end up in different groups.  I'd suggest that a word2vec powered model would give use a much better clustering of these topics, because the meaning and context of words provides additional information with these extremely short sentences."
   ]
  },
  {
   "cell_type": "code",
   "execution_count": 27,
   "metadata": {},
   "outputs": [],
   "source": []
  },
  {
   "cell_type": "code",
   "execution_count": 28,
   "metadata": {},
   "outputs": [],
   "source": []
  },
  {
   "cell_type": "code",
   "execution_count": null,
   "metadata": {},
   "outputs": [],
   "source": []
  }
 ],
 "metadata": {
  "kernelspec": {
   "display_name": "Python 3",
   "language": "python",
   "name": "python3"
  },
  "language_info": {
   "codemirror_mode": {
    "name": "ipython",
    "version": 3
   },
   "file_extension": ".py",
   "mimetype": "text/x-python",
   "name": "python",
   "nbconvert_exporter": "python",
   "pygments_lexer": "ipython3",
   "version": "3.6.7"
  }
 },
 "nbformat": 4,
 "nbformat_minor": 2
}
